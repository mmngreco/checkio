{
 "cells": [
  {
   "cell_type": "code",
   "execution_count": 24,
   "metadata": {
    "collapsed": false
   },
   "outputs": [
    {
     "name": "stdout",
     "output_type": "stream",
     "text": [
      "[['dr101', 'mr99'], ['mr99', 'out00'], ['dr101', 'out00'], ['scout1', 'scout2'], ['scout3', 'scout1'], ['scout1', 'scout4'], ['scout4', 'sscout'], ['sscout', 'super']]\n",
      "[['scout1', 'scout2']]\n",
      "[['dr101', 'mr99'], ['mr99', 'out00'], ['dr101', 'out00'], ['scout1', 'scout2'], ['scout3', 'scout1'], ['scout1', 'scout4'], ['scout4', 'sscout'], ['sscout', 'super']]\n",
      "[['dr101', 'mr99'], ['mr99', 'out00'], ['dr101', 'out00'], ['scout1', 'scout2'], ['scout3', 'scout1'], ['scout1', 'scout4'], ['scout4', 'sscout'], ['sscout', 'super']]\n",
      "[['sscout', 'super']]\n",
      "[['dr101', 'mr99'], ['mr99', 'out00'], ['dr101', 'out00'], ['scout1', 'scout2'], ['scout3', 'scout1'], ['scout1', 'scout4'], ['scout4', 'sscout'], ['sscout', 'super']]\n",
      "[['dr101', 'mr99'], ['mr99', 'out00'], ['dr101', 'out00'], ['scout1', 'scout2'], ['scout3', 'scout1'], ['scout1', 'scout4'], ['scout4', 'sscout'], ['sscout', 'super']]\n",
      "[['dr101', 'mr99'], ['dr101', 'out00']]\n",
      "[['dr101', 'mr99'], ['mr99', 'out00'], ['dr101', 'out00'], ['scout1', 'scout2'], ['scout3', 'scout1'], ['scout1', 'scout4'], ['scout4', 'sscout'], ['sscout', 'super']]\n"
     ]
    },
    {
     "ename": "AssertionError",
     "evalue": "I don't know any scouts.",
     "output_type": "error",
     "traceback": [
      "\u001b[0;31m---------------------------------------------------------------------------\u001b[0m",
      "\u001b[0;31mAssertionError\u001b[0m                            Traceback (most recent call last)",
      "\u001b[0;32m<ipython-input-24-f0aa3f400ed2>\u001b[0m in \u001b[0;36m<module>\u001b[0;34m()\u001b[0m\n\u001b[1;32m     24\u001b[0m         (\"dr101-mr99\", \"mr99-out00\", \"dr101-out00\", \"scout1-scout2\",\n\u001b[1;32m     25\u001b[0m          \"scout3-scout1\", \"scout1-scout4\", \"scout4-sscout\", \"sscout-super\"),\n\u001b[0;32m---> 26\u001b[0;31m         \"dr101\", \"sscout\") == False, \"I don't know any scouts.\"\n\u001b[0m",
      "\u001b[0;31mAssertionError\u001b[0m: I don't know any scouts."
     ]
    }
   ],
   "source": [
    "def check_connection(network, first, second):\n",
    "    pair_conections = [n.split('-') for n in list(network)]\n",
    "    stack = pair_conections[:]\n",
    "    conection = []\n",
    "    \n",
    "    print pair_conections\n",
    "    print filter(lambda p: first in p, pair_conections)\n",
    "    print stack\n",
    "\n",
    "    return True or False\n",
    "\n",
    "\n",
    "if __name__ == '__main__':\n",
    "    #These \"asserts\" using only for self-checking and not necessary for auto-testing\n",
    "    assert check_connection(\n",
    "        (\"dr101-mr99\", \"mr99-out00\", \"dr101-out00\", \"scout1-scout2\",\n",
    "         \"scout3-scout1\", \"scout1-scout4\", \"scout4-sscout\", \"sscout-super\"),\n",
    "        \"scout2\", \"scout3\") == True, \"Scout Brotherhood\"\n",
    "    assert check_connection(\n",
    "        (\"dr101-mr99\", \"mr99-out00\", \"dr101-out00\", \"scout1-scout2\",\n",
    "         \"scout3-scout1\", \"scout1-scout4\", \"scout4-sscout\", \"sscout-super\"),\n",
    "        \"super\", \"scout2\") == True, \"Super Scout\"\n",
    "    assert check_connection(\n",
    "        (\"dr101-mr99\", \"mr99-out00\", \"dr101-out00\", \"scout1-scout2\",\n",
    "         \"scout3-scout1\", \"scout1-scout4\", \"scout4-sscout\", \"sscout-super\"),\n",
    "        \"dr101\", \"sscout\") == False, \"I don't know any scouts.\"\n"
   ]
  },
  {
   "cell_type": "code",
   "execution_count": 15,
   "metadata": {
    "collapsed": false
   },
   "outputs": [],
   "source": [
    "conjunto = [\"dr101-mr99\", \"mr99-out00\", \"dr101-out00\", \"scout1-scout2\",\"scout3-scout1\", \"scout1-scout4\", \"scout4-sscout\", \"sscout-super\"]\n",
    "first =  'scout2'\n",
    "second =  'scout3'"
   ]
  },
  {
   "cell_type": "code",
   "execution_count": 48,
   "metadata": {
    "collapsed": false
   },
   "outputs": [],
   "source": [
    "list_cjt = [cjt.split('-') for cjt in conjunto]\n",
    "b = True\n",
    "\n"
   ]
  },
  {
   "cell_type": "code",
   "execution_count": null,
   "metadata": {
    "collapsed": false
   },
   "outputs": [],
   "source": [
    "conections"
   ]
  },
  {
   "cell_type": "code",
   "execution_count": null,
   "metadata": {
    "collapsed": true
   },
   "outputs": [],
   "source": []
  }
 ],
 "metadata": {
  "kernelspec": {
   "display_name": "Python 2",
   "language": "python",
   "name": "python2"
  },
  "language_info": {
   "codemirror_mode": {
    "name": "ipython",
    "version": 2
   },
   "file_extension": ".py",
   "mimetype": "text/x-python",
   "name": "python",
   "nbconvert_exporter": "python",
   "pygments_lexer": "ipython2",
   "version": "2.7.9"
  }
 },
 "nbformat": 4,
 "nbformat_minor": 0
}
